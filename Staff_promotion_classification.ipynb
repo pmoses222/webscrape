{
  "nbformat": 4,
  "nbformat_minor": 0,
  "metadata": {
    "kernelspec": {
      "display_name": "Python 3",
      "language": "python",
      "name": "python3"
    },
    "language_info": {
      "codemirror_mode": {
        "name": "ipython",
        "version": 3
      },
      "file_extension": ".py",
      "mimetype": "text/x-python",
      "name": "python",
      "nbconvert_exporter": "python",
      "pygments_lexer": "ipython3",
      "version": "3.7.3"
    },
    "colab": {
      "name": "Staff promotion classification.ipynb",
      "provenance": [],
      "include_colab_link": true
    }
  },
  "cells": [
    {
      "cell_type": "markdown",
      "metadata": {
        "id": "view-in-github",
        "colab_type": "text"
      },
      "source": [
        "<a href=\"https://colab.research.google.com/github/pmoses222/webscrape/blob/master/Staff_promotion_classification.ipynb\" target=\"_parent\"><img src=\"https://colab.research.google.com/assets/colab-badge.svg\" alt=\"Open In Colab\"/></a>"
      ]
    },
    {
      "cell_type": "code",
      "metadata": {
        "id": "7CIFvk0KamaD",
        "colab_type": "code",
        "colab": {}
      },
      "source": [
        "import numpy as np\n",
        "import pandas as pd\n",
        "import matplotlib.pyplot as plt\n",
        "import seaborn as sns\n",
        "import sklearn \n",
        "sns.set_style('whitegrid')\n",
        "%matplotlib inline"
      ],
      "execution_count": 0,
      "outputs": []
    },
    {
      "cell_type": "code",
      "metadata": {
        "id": "fP9__kJ8amaT",
        "colab_type": "code",
        "colab": {}
      },
      "source": [
        "staff1=pd.read_csv('train.csv')"
      ],
      "execution_count": 0,
      "outputs": []
    },
    {
      "cell_type": "code",
      "metadata": {
        "id": "VJGd9dvramag",
        "colab_type": "code",
        "colab": {}
      },
      "source": [
        "staff2=pd.read_csv('test.csv')"
      ],
      "execution_count": 0,
      "outputs": []
    },
    {
      "cell_type": "code",
      "metadata": {
        "id": "_f2xV7f_amar",
        "colab_type": "code",
        "colab": {},
        "outputId": "9901fbcd-a21b-44ed-c1ec-62bdd5b513c7"
      },
      "source": [
        "staff1.head()"
      ],
      "execution_count": 0,
      "outputs": [
        {
          "output_type": "execute_result",
          "data": {
            "text/html": [
              "<div>\n",
              "<style scoped>\n",
              "    .dataframe tbody tr th:only-of-type {\n",
              "        vertical-align: middle;\n",
              "    }\n",
              "\n",
              "    .dataframe tbody tr th {\n",
              "        vertical-align: top;\n",
              "    }\n",
              "\n",
              "    .dataframe thead th {\n",
              "        text-align: right;\n",
              "    }\n",
              "</style>\n",
              "<table border=\"1\" class=\"dataframe\">\n",
              "  <thead>\n",
              "    <tr style=\"text-align: right;\">\n",
              "      <th></th>\n",
              "      <th>EmployeeNo</th>\n",
              "      <th>Division</th>\n",
              "      <th>Qualification</th>\n",
              "      <th>Gender</th>\n",
              "      <th>Channel_of_Recruitment</th>\n",
              "      <th>Trainings_Attended</th>\n",
              "      <th>Year_of_birth</th>\n",
              "      <th>Last_performance_score</th>\n",
              "      <th>Year_of_recruitment</th>\n",
              "      <th>Targets_met</th>\n",
              "      <th>Previous_Award</th>\n",
              "      <th>Training_score_average</th>\n",
              "      <th>State_Of_Origin</th>\n",
              "      <th>Foreign_schooled</th>\n",
              "      <th>Marital_Status</th>\n",
              "      <th>Past_Disciplinary_Action</th>\n",
              "      <th>Previous_IntraDepartmental_Movement</th>\n",
              "      <th>No_of_previous_employers</th>\n",
              "      <th>Promoted_or_Not</th>\n",
              "    </tr>\n",
              "  </thead>\n",
              "  <tbody>\n",
              "    <tr>\n",
              "      <th>0</th>\n",
              "      <td>YAK/S/00001</td>\n",
              "      <td>Commercial Sales and Marketing</td>\n",
              "      <td>MSc, MBA and PhD</td>\n",
              "      <td>Female</td>\n",
              "      <td>Direct Internal process</td>\n",
              "      <td>2</td>\n",
              "      <td>1986</td>\n",
              "      <td>12.5</td>\n",
              "      <td>2011</td>\n",
              "      <td>1</td>\n",
              "      <td>0</td>\n",
              "      <td>41</td>\n",
              "      <td>ANAMBRA</td>\n",
              "      <td>No</td>\n",
              "      <td>Married</td>\n",
              "      <td>No</td>\n",
              "      <td>No</td>\n",
              "      <td>0</td>\n",
              "      <td>0</td>\n",
              "    </tr>\n",
              "    <tr>\n",
              "      <th>1</th>\n",
              "      <td>YAK/S/00002</td>\n",
              "      <td>Customer Support and Field Operations</td>\n",
              "      <td>First Degree or HND</td>\n",
              "      <td>Male</td>\n",
              "      <td>Agency and others</td>\n",
              "      <td>2</td>\n",
              "      <td>1991</td>\n",
              "      <td>12.5</td>\n",
              "      <td>2015</td>\n",
              "      <td>0</td>\n",
              "      <td>0</td>\n",
              "      <td>52</td>\n",
              "      <td>ANAMBRA</td>\n",
              "      <td>Yes</td>\n",
              "      <td>Married</td>\n",
              "      <td>No</td>\n",
              "      <td>No</td>\n",
              "      <td>0</td>\n",
              "      <td>0</td>\n",
              "    </tr>\n",
              "    <tr>\n",
              "      <th>2</th>\n",
              "      <td>YAK/S/00003</td>\n",
              "      <td>Commercial Sales and Marketing</td>\n",
              "      <td>First Degree or HND</td>\n",
              "      <td>Male</td>\n",
              "      <td>Direct Internal process</td>\n",
              "      <td>2</td>\n",
              "      <td>1987</td>\n",
              "      <td>7.5</td>\n",
              "      <td>2012</td>\n",
              "      <td>0</td>\n",
              "      <td>0</td>\n",
              "      <td>42</td>\n",
              "      <td>KATSINA</td>\n",
              "      <td>Yes</td>\n",
              "      <td>Married</td>\n",
              "      <td>No</td>\n",
              "      <td>No</td>\n",
              "      <td>0</td>\n",
              "      <td>0</td>\n",
              "    </tr>\n",
              "    <tr>\n",
              "      <th>3</th>\n",
              "      <td>YAK/S/00004</td>\n",
              "      <td>Commercial Sales and Marketing</td>\n",
              "      <td>First Degree or HND</td>\n",
              "      <td>Male</td>\n",
              "      <td>Agency and others</td>\n",
              "      <td>3</td>\n",
              "      <td>1982</td>\n",
              "      <td>2.5</td>\n",
              "      <td>2009</td>\n",
              "      <td>0</td>\n",
              "      <td>0</td>\n",
              "      <td>42</td>\n",
              "      <td>NIGER</td>\n",
              "      <td>Yes</td>\n",
              "      <td>Single</td>\n",
              "      <td>No</td>\n",
              "      <td>No</td>\n",
              "      <td>1</td>\n",
              "      <td>0</td>\n",
              "    </tr>\n",
              "    <tr>\n",
              "      <th>4</th>\n",
              "      <td>YAK/S/00006</td>\n",
              "      <td>Information and Strategy</td>\n",
              "      <td>First Degree or HND</td>\n",
              "      <td>Male</td>\n",
              "      <td>Direct Internal process</td>\n",
              "      <td>3</td>\n",
              "      <td>1990</td>\n",
              "      <td>7.5</td>\n",
              "      <td>2012</td>\n",
              "      <td>0</td>\n",
              "      <td>0</td>\n",
              "      <td>77</td>\n",
              "      <td>AKWA IBOM</td>\n",
              "      <td>Yes</td>\n",
              "      <td>Married</td>\n",
              "      <td>No</td>\n",
              "      <td>No</td>\n",
              "      <td>1</td>\n",
              "      <td>0</td>\n",
              "    </tr>\n",
              "  </tbody>\n",
              "</table>\n",
              "</div>"
            ],
            "text/plain": [
              "    EmployeeNo                               Division        Qualification  \\\n",
              "0  YAK/S/00001         Commercial Sales and Marketing     MSc, MBA and PhD   \n",
              "1  YAK/S/00002  Customer Support and Field Operations  First Degree or HND   \n",
              "2  YAK/S/00003         Commercial Sales and Marketing  First Degree or HND   \n",
              "3  YAK/S/00004         Commercial Sales and Marketing  First Degree or HND   \n",
              "4  YAK/S/00006               Information and Strategy  First Degree or HND   \n",
              "\n",
              "   Gender   Channel_of_Recruitment  Trainings_Attended  Year_of_birth  \\\n",
              "0  Female  Direct Internal process                   2           1986   \n",
              "1    Male        Agency and others                   2           1991   \n",
              "2    Male  Direct Internal process                   2           1987   \n",
              "3    Male        Agency and others                   3           1982   \n",
              "4    Male  Direct Internal process                   3           1990   \n",
              "\n",
              "   Last_performance_score  Year_of_recruitment  Targets_met  Previous_Award  \\\n",
              "0                    12.5                 2011            1               0   \n",
              "1                    12.5                 2015            0               0   \n",
              "2                     7.5                 2012            0               0   \n",
              "3                     2.5                 2009            0               0   \n",
              "4                     7.5                 2012            0               0   \n",
              "\n",
              "   Training_score_average State_Of_Origin Foreign_schooled Marital_Status  \\\n",
              "0                      41         ANAMBRA               No        Married   \n",
              "1                      52         ANAMBRA              Yes        Married   \n",
              "2                      42         KATSINA              Yes        Married   \n",
              "3                      42           NIGER              Yes         Single   \n",
              "4                      77       AKWA IBOM              Yes        Married   \n",
              "\n",
              "  Past_Disciplinary_Action Previous_IntraDepartmental_Movement  \\\n",
              "0                       No                                  No   \n",
              "1                       No                                  No   \n",
              "2                       No                                  No   \n",
              "3                       No                                  No   \n",
              "4                       No                                  No   \n",
              "\n",
              "  No_of_previous_employers  Promoted_or_Not  \n",
              "0                        0                0  \n",
              "1                        0                0  \n",
              "2                        0                0  \n",
              "3                        1                0  \n",
              "4                        1                0  "
            ]
          },
          "metadata": {
            "tags": []
          },
          "execution_count": 4
        }
      ]
    },
    {
      "cell_type": "markdown",
      "metadata": {
        "id": "VqHNeISzama0",
        "colab_type": "text"
      },
      "source": [
        "# Filling the missing and corrupted infomation"
      ]
    },
    {
      "cell_type": "code",
      "metadata": {
        "id": "z75LMwGwama5",
        "colab_type": "code",
        "colab": {}
      },
      "source": [
        "staff1['Qualification'].fillna('Non-University Education',inplace=True)"
      ],
      "execution_count": 0,
      "outputs": []
    },
    {
      "cell_type": "code",
      "metadata": {
        "id": "dlSRVZCrambC",
        "colab_type": "code",
        "colab": {}
      },
      "source": [
        "staff2['Qualification'].fillna('Non-University Education',inplace=True)"
      ],
      "execution_count": 0,
      "outputs": []
    },
    {
      "cell_type": "code",
      "metadata": {
        "id": "mctqV0QuambP",
        "colab_type": "code",
        "colab": {},
        "outputId": "15c658d4-6eae-4b94-edf3-2a7db5860016"
      },
      "source": [
        "staff1.info()"
      ],
      "execution_count": 0,
      "outputs": [
        {
          "output_type": "stream",
          "text": [
            "<class 'pandas.core.frame.DataFrame'>\n",
            "RangeIndex: 38312 entries, 0 to 38311\n",
            "Data columns (total 19 columns):\n",
            "EmployeeNo                             38312 non-null object\n",
            "Division                               38312 non-null object\n",
            "Qualification                          38312 non-null object\n",
            "Gender                                 38312 non-null object\n",
            "Channel_of_Recruitment                 38312 non-null object\n",
            "Trainings_Attended                     38312 non-null int64\n",
            "Year_of_birth                          38312 non-null int64\n",
            "Last_performance_score                 38312 non-null float64\n",
            "Year_of_recruitment                    38312 non-null int64\n",
            "Targets_met                            38312 non-null int64\n",
            "Previous_Award                         38312 non-null int64\n",
            "Training_score_average                 38312 non-null int64\n",
            "State_Of_Origin                        38312 non-null object\n",
            "Foreign_schooled                       38312 non-null object\n",
            "Marital_Status                         38312 non-null object\n",
            "Past_Disciplinary_Action               38312 non-null object\n",
            "Previous_IntraDepartmental_Movement    38312 non-null object\n",
            "No_of_previous_employers               38312 non-null object\n",
            "Promoted_or_Not                        38312 non-null int64\n",
            "dtypes: float64(1), int64(7), object(11)\n",
            "memory usage: 5.6+ MB\n"
          ],
          "name": "stdout"
        }
      ]
    },
    {
      "cell_type": "code",
      "metadata": {
        "id": "PFiWrGCYambc",
        "colab_type": "code",
        "colab": {},
        "outputId": "ef295a43-2e6a-4596-effe-ed9102c10a4f"
      },
      "source": [
        "staff2.info()"
      ],
      "execution_count": 0,
      "outputs": [
        {
          "output_type": "stream",
          "text": [
            "<class 'pandas.core.frame.DataFrame'>\n",
            "RangeIndex: 16496 entries, 0 to 16495\n",
            "Data columns (total 18 columns):\n",
            "EmployeeNo                             16496 non-null object\n",
            "Division                               16496 non-null object\n",
            "Qualification                          16496 non-null object\n",
            "Gender                                 16496 non-null object\n",
            "Channel_of_Recruitment                 16496 non-null object\n",
            "Trainings_Attended                     16496 non-null int64\n",
            "Year_of_birth                          16496 non-null int64\n",
            "Last_performance_score                 16496 non-null float64\n",
            "Year_of_recruitment                    16496 non-null int64\n",
            "Targets_met                            16496 non-null int64\n",
            "Previous_Award                         16496 non-null int64\n",
            "Training_score_average                 16496 non-null int64\n",
            "State_Of_Origin                        16496 non-null object\n",
            "Foreign_schooled                       16496 non-null object\n",
            "Marital_Status                         16496 non-null object\n",
            "Past_Disciplinary_Action               16496 non-null object\n",
            "Previous_IntraDepartmental_Movement    16496 non-null object\n",
            "No_of_previous_employers               16496 non-null object\n",
            "dtypes: float64(1), int64(6), object(11)\n",
            "memory usage: 2.3+ MB\n"
          ],
          "name": "stdout"
        }
      ]
    },
    {
      "cell_type": "markdown",
      "metadata": {
        "id": "Ms7oKc0dambk",
        "colab_type": "text"
      },
      "source": [
        "# Division"
      ]
    },
    {
      "cell_type": "code",
      "metadata": {
        "id": "OwK3bKNaambm",
        "colab_type": "code",
        "colab": {},
        "outputId": "c31c1414-ea4a-4576-e04e-7cedaa827839"
      },
      "source": [
        "staff1['Division'].unique()"
      ],
      "execution_count": 0,
      "outputs": [
        {
          "output_type": "execute_result",
          "data": {
            "text/plain": [
              "array(['Commercial Sales and Marketing',\n",
              "       'Customer Support and Field Operations',\n",
              "       'Information and Strategy',\n",
              "       'Information Technology and Solution Support',\n",
              "       'Sourcing and Purchasing', 'Business Finance Operations',\n",
              "       'People/HR Management', 'Research and Innovation',\n",
              "       'Regulatory and Legal services'], dtype=object)"
            ]
          },
          "metadata": {
            "tags": []
          },
          "execution_count": 9
        }
      ]
    },
    {
      "cell_type": "code",
      "metadata": {
        "id": "lg3e1VcXamb3",
        "colab_type": "code",
        "colab": {}
      },
      "source": [
        "position={'Commercial Sales and Marketing':1,\n",
        "       'Customer Support and Field Operations':2,\n",
        "       'Information and Strategy':3,\n",
        "       'Information Technology and Solution Support':4,\n",
        "       'Sourcing and Purchasing':5, 'Business Finance Operations':6,\n",
        "       'People/HR Management':7, 'Research and Innovation':8,\n",
        "       'Regulatory and Legal services':9}"
      ],
      "execution_count": 0,
      "outputs": []
    },
    {
      "cell_type": "code",
      "metadata": {
        "id": "zP8Nmygramb-",
        "colab_type": "code",
        "colab": {},
        "outputId": "412daf86-f45f-48b0-90a2-9351a1ce4e91"
      },
      "source": [
        "position"
      ],
      "execution_count": 0,
      "outputs": [
        {
          "output_type": "execute_result",
          "data": {
            "text/plain": [
              "{'Commercial Sales and Marketing': 1,\n",
              " 'Customer Support and Field Operations': 2,\n",
              " 'Information and Strategy': 3,\n",
              " 'Information Technology and Solution Support': 4,\n",
              " 'Sourcing and Purchasing': 5,\n",
              " 'Business Finance Operations': 6,\n",
              " 'People/HR Management': 7,\n",
              " 'Research and Innovation': 8,\n",
              " 'Regulatory and Legal services': 9}"
            ]
          },
          "metadata": {
            "tags": []
          },
          "execution_count": 11
        }
      ]
    },
    {
      "cell_type": "markdown",
      "metadata": {
        "id": "uAV3O9XfamcF",
        "colab_type": "text"
      },
      "source": [
        "# Qualification"
      ]
    },
    {
      "cell_type": "code",
      "metadata": {
        "id": "1OR0WZF8amcH",
        "colab_type": "code",
        "colab": {},
        "outputId": "cad79f2a-53fd-45a8-d45e-31fbecf2958e"
      },
      "source": [
        "staff1['Qualification'].unique()"
      ],
      "execution_count": 0,
      "outputs": [
        {
          "output_type": "execute_result",
          "data": {
            "text/plain": [
              "array(['MSc, MBA and PhD', 'First Degree or HND',\n",
              "       'Non-University Education'], dtype=object)"
            ]
          },
          "metadata": {
            "tags": []
          },
          "execution_count": 12
        }
      ]
    },
    {
      "cell_type": "code",
      "metadata": {
        "id": "-ZsIcMVSamcP",
        "colab_type": "code",
        "colab": {}
      },
      "source": [
        "education={'MSc, MBA and PhD':3, 'First Degree or HND':2,\n",
        "       'Non-University Education':1}"
      ],
      "execution_count": 0,
      "outputs": []
    },
    {
      "cell_type": "code",
      "metadata": {
        "id": "dQSkGrONamcV",
        "colab_type": "code",
        "colab": {}
      },
      "source": [
        "staff1['Qualification']=staff1['Qualification'].map(education)\n",
        "staff2['Qualification']=staff2['Qualification'].map(education)"
      ],
      "execution_count": 0,
      "outputs": []
    },
    {
      "cell_type": "code",
      "metadata": {
        "id": "QCU9P2Mzamcf",
        "colab_type": "code",
        "colab": {},
        "outputId": "f2c42864-cfce-4790-dc58-7cf5f2188728"
      },
      "source": [
        "staff1.head()"
      ],
      "execution_count": 0,
      "outputs": [
        {
          "output_type": "execute_result",
          "data": {
            "text/html": [
              "<div>\n",
              "<style scoped>\n",
              "    .dataframe tbody tr th:only-of-type {\n",
              "        vertical-align: middle;\n",
              "    }\n",
              "\n",
              "    .dataframe tbody tr th {\n",
              "        vertical-align: top;\n",
              "    }\n",
              "\n",
              "    .dataframe thead th {\n",
              "        text-align: right;\n",
              "    }\n",
              "</style>\n",
              "<table border=\"1\" class=\"dataframe\">\n",
              "  <thead>\n",
              "    <tr style=\"text-align: right;\">\n",
              "      <th></th>\n",
              "      <th>EmployeeNo</th>\n",
              "      <th>Division</th>\n",
              "      <th>Qualification</th>\n",
              "      <th>Gender</th>\n",
              "      <th>Channel_of_Recruitment</th>\n",
              "      <th>Trainings_Attended</th>\n",
              "      <th>Year_of_birth</th>\n",
              "      <th>Last_performance_score</th>\n",
              "      <th>Year_of_recruitment</th>\n",
              "      <th>Targets_met</th>\n",
              "      <th>Previous_Award</th>\n",
              "      <th>Training_score_average</th>\n",
              "      <th>State_Of_Origin</th>\n",
              "      <th>Foreign_schooled</th>\n",
              "      <th>Marital_Status</th>\n",
              "      <th>Past_Disciplinary_Action</th>\n",
              "      <th>Previous_IntraDepartmental_Movement</th>\n",
              "      <th>No_of_previous_employers</th>\n",
              "      <th>Promoted_or_Not</th>\n",
              "    </tr>\n",
              "  </thead>\n",
              "  <tbody>\n",
              "    <tr>\n",
              "      <th>0</th>\n",
              "      <td>YAK/S/00001</td>\n",
              "      <td>Commercial Sales and Marketing</td>\n",
              "      <td>3</td>\n",
              "      <td>Female</td>\n",
              "      <td>Direct Internal process</td>\n",
              "      <td>2</td>\n",
              "      <td>1986</td>\n",
              "      <td>12.5</td>\n",
              "      <td>2011</td>\n",
              "      <td>1</td>\n",
              "      <td>0</td>\n",
              "      <td>41</td>\n",
              "      <td>ANAMBRA</td>\n",
              "      <td>No</td>\n",
              "      <td>Married</td>\n",
              "      <td>No</td>\n",
              "      <td>No</td>\n",
              "      <td>0</td>\n",
              "      <td>0</td>\n",
              "    </tr>\n",
              "    <tr>\n",
              "      <th>1</th>\n",
              "      <td>YAK/S/00002</td>\n",
              "      <td>Customer Support and Field Operations</td>\n",
              "      <td>2</td>\n",
              "      <td>Male</td>\n",
              "      <td>Agency and others</td>\n",
              "      <td>2</td>\n",
              "      <td>1991</td>\n",
              "      <td>12.5</td>\n",
              "      <td>2015</td>\n",
              "      <td>0</td>\n",
              "      <td>0</td>\n",
              "      <td>52</td>\n",
              "      <td>ANAMBRA</td>\n",
              "      <td>Yes</td>\n",
              "      <td>Married</td>\n",
              "      <td>No</td>\n",
              "      <td>No</td>\n",
              "      <td>0</td>\n",
              "      <td>0</td>\n",
              "    </tr>\n",
              "    <tr>\n",
              "      <th>2</th>\n",
              "      <td>YAK/S/00003</td>\n",
              "      <td>Commercial Sales and Marketing</td>\n",
              "      <td>2</td>\n",
              "      <td>Male</td>\n",
              "      <td>Direct Internal process</td>\n",
              "      <td>2</td>\n",
              "      <td>1987</td>\n",
              "      <td>7.5</td>\n",
              "      <td>2012</td>\n",
              "      <td>0</td>\n",
              "      <td>0</td>\n",
              "      <td>42</td>\n",
              "      <td>KATSINA</td>\n",
              "      <td>Yes</td>\n",
              "      <td>Married</td>\n",
              "      <td>No</td>\n",
              "      <td>No</td>\n",
              "      <td>0</td>\n",
              "      <td>0</td>\n",
              "    </tr>\n",
              "    <tr>\n",
              "      <th>3</th>\n",
              "      <td>YAK/S/00004</td>\n",
              "      <td>Commercial Sales and Marketing</td>\n",
              "      <td>2</td>\n",
              "      <td>Male</td>\n",
              "      <td>Agency and others</td>\n",
              "      <td>3</td>\n",
              "      <td>1982</td>\n",
              "      <td>2.5</td>\n",
              "      <td>2009</td>\n",
              "      <td>0</td>\n",
              "      <td>0</td>\n",
              "      <td>42</td>\n",
              "      <td>NIGER</td>\n",
              "      <td>Yes</td>\n",
              "      <td>Single</td>\n",
              "      <td>No</td>\n",
              "      <td>No</td>\n",
              "      <td>1</td>\n",
              "      <td>0</td>\n",
              "    </tr>\n",
              "    <tr>\n",
              "      <th>4</th>\n",
              "      <td>YAK/S/00006</td>\n",
              "      <td>Information and Strategy</td>\n",
              "      <td>2</td>\n",
              "      <td>Male</td>\n",
              "      <td>Direct Internal process</td>\n",
              "      <td>3</td>\n",
              "      <td>1990</td>\n",
              "      <td>7.5</td>\n",
              "      <td>2012</td>\n",
              "      <td>0</td>\n",
              "      <td>0</td>\n",
              "      <td>77</td>\n",
              "      <td>AKWA IBOM</td>\n",
              "      <td>Yes</td>\n",
              "      <td>Married</td>\n",
              "      <td>No</td>\n",
              "      <td>No</td>\n",
              "      <td>1</td>\n",
              "      <td>0</td>\n",
              "    </tr>\n",
              "  </tbody>\n",
              "</table>\n",
              "</div>"
            ],
            "text/plain": [
              "    EmployeeNo                               Division  Qualification  Gender  \\\n",
              "0  YAK/S/00001         Commercial Sales and Marketing              3  Female   \n",
              "1  YAK/S/00002  Customer Support and Field Operations              2    Male   \n",
              "2  YAK/S/00003         Commercial Sales and Marketing              2    Male   \n",
              "3  YAK/S/00004         Commercial Sales and Marketing              2    Male   \n",
              "4  YAK/S/00006               Information and Strategy              2    Male   \n",
              "\n",
              "    Channel_of_Recruitment  Trainings_Attended  Year_of_birth  \\\n",
              "0  Direct Internal process                   2           1986   \n",
              "1        Agency and others                   2           1991   \n",
              "2  Direct Internal process                   2           1987   \n",
              "3        Agency and others                   3           1982   \n",
              "4  Direct Internal process                   3           1990   \n",
              "\n",
              "   Last_performance_score  Year_of_recruitment  Targets_met  Previous_Award  \\\n",
              "0                    12.5                 2011            1               0   \n",
              "1                    12.5                 2015            0               0   \n",
              "2                     7.5                 2012            0               0   \n",
              "3                     2.5                 2009            0               0   \n",
              "4                     7.5                 2012            0               0   \n",
              "\n",
              "   Training_score_average State_Of_Origin Foreign_schooled Marital_Status  \\\n",
              "0                      41         ANAMBRA               No        Married   \n",
              "1                      52         ANAMBRA              Yes        Married   \n",
              "2                      42         KATSINA              Yes        Married   \n",
              "3                      42           NIGER              Yes         Single   \n",
              "4                      77       AKWA IBOM              Yes        Married   \n",
              "\n",
              "  Past_Disciplinary_Action Previous_IntraDepartmental_Movement  \\\n",
              "0                       No                                  No   \n",
              "1                       No                                  No   \n",
              "2                       No                                  No   \n",
              "3                       No                                  No   \n",
              "4                       No                                  No   \n",
              "\n",
              "  No_of_previous_employers  Promoted_or_Not  \n",
              "0                        0                0  \n",
              "1                        0                0  \n",
              "2                        0                0  \n",
              "3                        1                0  \n",
              "4                        1                0  "
            ]
          },
          "metadata": {
            "tags": []
          },
          "execution_count": 15
        }
      ]
    },
    {
      "cell_type": "code",
      "metadata": {
        "id": "b56jSq1Hamcn",
        "colab_type": "code",
        "colab": {},
        "outputId": "8f2d243e-491c-4c0a-885a-69a7bea8c6c8"
      },
      "source": [
        "staff2.head()"
      ],
      "execution_count": 0,
      "outputs": [
        {
          "output_type": "execute_result",
          "data": {
            "text/html": [
              "<div>\n",
              "<style scoped>\n",
              "    .dataframe tbody tr th:only-of-type {\n",
              "        vertical-align: middle;\n",
              "    }\n",
              "\n",
              "    .dataframe tbody tr th {\n",
              "        vertical-align: top;\n",
              "    }\n",
              "\n",
              "    .dataframe thead th {\n",
              "        text-align: right;\n",
              "    }\n",
              "</style>\n",
              "<table border=\"1\" class=\"dataframe\">\n",
              "  <thead>\n",
              "    <tr style=\"text-align: right;\">\n",
              "      <th></th>\n",
              "      <th>EmployeeNo</th>\n",
              "      <th>Division</th>\n",
              "      <th>Qualification</th>\n",
              "      <th>Gender</th>\n",
              "      <th>Channel_of_Recruitment</th>\n",
              "      <th>Trainings_Attended</th>\n",
              "      <th>Year_of_birth</th>\n",
              "      <th>Last_performance_score</th>\n",
              "      <th>Year_of_recruitment</th>\n",
              "      <th>Targets_met</th>\n",
              "      <th>Previous_Award</th>\n",
              "      <th>Training_score_average</th>\n",
              "      <th>State_Of_Origin</th>\n",
              "      <th>Foreign_schooled</th>\n",
              "      <th>Marital_Status</th>\n",
              "      <th>Past_Disciplinary_Action</th>\n",
              "      <th>Previous_IntraDepartmental_Movement</th>\n",
              "      <th>No_of_previous_employers</th>\n",
              "    </tr>\n",
              "  </thead>\n",
              "  <tbody>\n",
              "    <tr>\n",
              "      <th>0</th>\n",
              "      <td>YAK/S/00005</td>\n",
              "      <td>Information Technology and Solution Support</td>\n",
              "      <td>2</td>\n",
              "      <td>Male</td>\n",
              "      <td>Agency and others</td>\n",
              "      <td>2</td>\n",
              "      <td>1976</td>\n",
              "      <td>7.5</td>\n",
              "      <td>2017</td>\n",
              "      <td>0</td>\n",
              "      <td>0</td>\n",
              "      <td>65</td>\n",
              "      <td>FCT</td>\n",
              "      <td>Yes</td>\n",
              "      <td>Married</td>\n",
              "      <td>No</td>\n",
              "      <td>No</td>\n",
              "      <td>1</td>\n",
              "    </tr>\n",
              "    <tr>\n",
              "      <th>1</th>\n",
              "      <td>YAK/S/00011</td>\n",
              "      <td>Information Technology and Solution Support</td>\n",
              "      <td>1</td>\n",
              "      <td>Male</td>\n",
              "      <td>Direct Internal process</td>\n",
              "      <td>2</td>\n",
              "      <td>1991</td>\n",
              "      <td>0.0</td>\n",
              "      <td>2018</td>\n",
              "      <td>0</td>\n",
              "      <td>0</td>\n",
              "      <td>69</td>\n",
              "      <td>OGUN</td>\n",
              "      <td>Yes</td>\n",
              "      <td>Married</td>\n",
              "      <td>No</td>\n",
              "      <td>No</td>\n",
              "      <td>1</td>\n",
              "    </tr>\n",
              "    <tr>\n",
              "      <th>2</th>\n",
              "      <td>YAK/S/00015</td>\n",
              "      <td>Research and Innovation</td>\n",
              "      <td>3</td>\n",
              "      <td>Male</td>\n",
              "      <td>Direct Internal process</td>\n",
              "      <td>2</td>\n",
              "      <td>1984</td>\n",
              "      <td>7.5</td>\n",
              "      <td>2012</td>\n",
              "      <td>0</td>\n",
              "      <td>0</td>\n",
              "      <td>76</td>\n",
              "      <td>KANO</td>\n",
              "      <td>Yes</td>\n",
              "      <td>Married</td>\n",
              "      <td>No</td>\n",
              "      <td>No</td>\n",
              "      <td>1</td>\n",
              "    </tr>\n",
              "    <tr>\n",
              "      <th>3</th>\n",
              "      <td>YAK/S/00016</td>\n",
              "      <td>Customer Support and Field Operations</td>\n",
              "      <td>2</td>\n",
              "      <td>Male</td>\n",
              "      <td>Agency and others</td>\n",
              "      <td>2</td>\n",
              "      <td>1984</td>\n",
              "      <td>2.5</td>\n",
              "      <td>2009</td>\n",
              "      <td>0</td>\n",
              "      <td>0</td>\n",
              "      <td>52</td>\n",
              "      <td>RIVERS</td>\n",
              "      <td>No</td>\n",
              "      <td>Single</td>\n",
              "      <td>No</td>\n",
              "      <td>No</td>\n",
              "      <td>1</td>\n",
              "    </tr>\n",
              "    <tr>\n",
              "      <th>4</th>\n",
              "      <td>YAK/S/00017</td>\n",
              "      <td>Information Technology and Solution Support</td>\n",
              "      <td>2</td>\n",
              "      <td>Male</td>\n",
              "      <td>Agency and others</td>\n",
              "      <td>2</td>\n",
              "      <td>1983</td>\n",
              "      <td>7.5</td>\n",
              "      <td>2014</td>\n",
              "      <td>1</td>\n",
              "      <td>0</td>\n",
              "      <td>69</td>\n",
              "      <td>FCT</td>\n",
              "      <td>Yes</td>\n",
              "      <td>Married</td>\n",
              "      <td>No</td>\n",
              "      <td>No</td>\n",
              "      <td>0</td>\n",
              "    </tr>\n",
              "  </tbody>\n",
              "</table>\n",
              "</div>"
            ],
            "text/plain": [
              "    EmployeeNo                                     Division  Qualification  \\\n",
              "0  YAK/S/00005  Information Technology and Solution Support              2   \n",
              "1  YAK/S/00011  Information Technology and Solution Support              1   \n",
              "2  YAK/S/00015                      Research and Innovation              3   \n",
              "3  YAK/S/00016        Customer Support and Field Operations              2   \n",
              "4  YAK/S/00017  Information Technology and Solution Support              2   \n",
              "\n",
              "  Gender   Channel_of_Recruitment  Trainings_Attended  Year_of_birth  \\\n",
              "0   Male        Agency and others                   2           1976   \n",
              "1   Male  Direct Internal process                   2           1991   \n",
              "2   Male  Direct Internal process                   2           1984   \n",
              "3   Male        Agency and others                   2           1984   \n",
              "4   Male        Agency and others                   2           1983   \n",
              "\n",
              "   Last_performance_score  Year_of_recruitment  Targets_met  Previous_Award  \\\n",
              "0                     7.5                 2017            0               0   \n",
              "1                     0.0                 2018            0               0   \n",
              "2                     7.5                 2012            0               0   \n",
              "3                     2.5                 2009            0               0   \n",
              "4                     7.5                 2014            1               0   \n",
              "\n",
              "   Training_score_average State_Of_Origin Foreign_schooled Marital_Status  \\\n",
              "0                      65             FCT              Yes        Married   \n",
              "1                      69            OGUN              Yes        Married   \n",
              "2                      76            KANO              Yes        Married   \n",
              "3                      52          RIVERS               No         Single   \n",
              "4                      69             FCT              Yes        Married   \n",
              "\n",
              "  Past_Disciplinary_Action Previous_IntraDepartmental_Movement  \\\n",
              "0                       No                                  No   \n",
              "1                       No                                  No   \n",
              "2                       No                                  No   \n",
              "3                       No                                  No   \n",
              "4                       No                                  No   \n",
              "\n",
              "  No_of_previous_employers  \n",
              "0                        1  \n",
              "1                        1  \n",
              "2                        1  \n",
              "3                        1  \n",
              "4                        0  "
            ]
          },
          "metadata": {
            "tags": []
          },
          "execution_count": 16
        }
      ]
    },
    {
      "cell_type": "markdown",
      "metadata": {
        "id": "-tTqyAHIamcw",
        "colab_type": "text"
      },
      "source": [
        "# Gender"
      ]
    },
    {
      "cell_type": "code",
      "metadata": {
        "id": "jAPfrkt6amcy",
        "colab_type": "code",
        "colab": {}
      },
      "source": [
        "gender={'Female':1, 'Male':2}"
      ],
      "execution_count": 0,
      "outputs": []
    },
    {
      "cell_type": "code",
      "metadata": {
        "id": "cTataTPHamc5",
        "colab_type": "code",
        "colab": {}
      },
      "source": [
        "staff1['Sex']=staff1['Gender'].map(gender)\n",
        "staff2['Sex']=staff2['Gender'].map(gender)"
      ],
      "execution_count": 0,
      "outputs": []
    },
    {
      "cell_type": "markdown",
      "metadata": {
        "id": "QGMtFoI3amdA",
        "colab_type": "text"
      },
      "source": [
        "# Channel of Recruitment"
      ]
    },
    {
      "cell_type": "code",
      "metadata": {
        "id": "g8Xrh2tMamdD",
        "colab_type": "code",
        "colab": {},
        "outputId": "ef19ede1-0b4d-490d-9ca6-7038ae720a80"
      },
      "source": [
        "staff1['Channel_of_Recruitment'].unique()"
      ],
      "execution_count": 0,
      "outputs": [
        {
          "output_type": "execute_result",
          "data": {
            "text/plain": [
              "array(['Direct Internal process', 'Agency and others',\n",
              "       'Referral and Special candidates'], dtype=object)"
            ]
          },
          "metadata": {
            "tags": []
          },
          "execution_count": 19
        }
      ]
    },
    {
      "cell_type": "code",
      "metadata": {
        "id": "oB-7Vuw_amdN",
        "colab_type": "code",
        "colab": {}
      },
      "source": [
        "channel={'Direct Internal process':1,'Agency and others':2,\n",
        "       'Referral and Special candidates':3}"
      ],
      "execution_count": 0,
      "outputs": []
    },
    {
      "cell_type": "code",
      "metadata": {
        "id": "RO94qX0xamdT",
        "colab_type": "code",
        "colab": {}
      },
      "source": [
        "staff1['Channel']=staff1['Channel_of_Recruitment'].map(channel)\n",
        "staff2['Channel']=staff2['Channel_of_Recruitment'].map(channel)"
      ],
      "execution_count": 0,
      "outputs": []
    },
    {
      "cell_type": "markdown",
      "metadata": {
        "id": "w_o1udbCamdb",
        "colab_type": "text"
      },
      "source": [
        "# Year of recruitment"
      ]
    },
    {
      "cell_type": "code",
      "metadata": {
        "id": "6RlpVTmSamdd",
        "colab_type": "code",
        "colab": {},
        "outputId": "edb460f6-52e7-4fb3-cf59-c5449fcea48d"
      },
      "source": [
        "staff2['Year_of_recruitment'].unique()"
      ],
      "execution_count": 0,
      "outputs": [
        {
          "output_type": "execute_result",
          "data": {
            "text/plain": [
              "array([2017, 2018, 2012, 2009, 2014, 2011, 2015, 2013, 2016, 1993, 2007,\n",
              "       2010, 2008, 1996, 2005, 2006, 1997, 1991, 2004, 1995, 2000, 2003,\n",
              "       1999, 2002, 1998, 1989, 2001, 1990, 1992, 1994, 1988, 1986, 1987],\n",
              "      dtype=int64)"
            ]
          },
          "metadata": {
            "tags": []
          },
          "execution_count": 22
        }
      ]
    },
    {
      "cell_type": "markdown",
      "metadata": {
        "id": "eFw2-Xy_amdk",
        "colab_type": "text"
      },
      "source": [
        "# Foreign Schooled"
      ]
    },
    {
      "cell_type": "code",
      "metadata": {
        "id": "CRWVpxcEamdl",
        "colab_type": "code",
        "colab": {}
      },
      "source": [
        "foreign={'Yes':1, 'No':0}"
      ],
      "execution_count": 0,
      "outputs": []
    },
    {
      "cell_type": "code",
      "metadata": {
        "id": "UnGrvCSKamdt",
        "colab_type": "code",
        "colab": {}
      },
      "source": [
        "staff1['F_schooled']=staff1['Foreign_schooled'].map(foreign)\n",
        "staff2['F_schooled']=staff2['Foreign_schooled'].map(foreign)"
      ],
      "execution_count": 0,
      "outputs": []
    },
    {
      "cell_type": "code",
      "metadata": {
        "id": "HHdcaPZoamd1",
        "colab_type": "code",
        "colab": {}
      },
      "source": [
        ""
      ],
      "execution_count": 0,
      "outputs": []
    },
    {
      "cell_type": "markdown",
      "metadata": {
        "id": "Bl_IxdXoamd6",
        "colab_type": "text"
      },
      "source": [
        "# Marital Status"
      ]
    },
    {
      "cell_type": "code",
      "metadata": {
        "id": "zdwC19dkamd8",
        "colab_type": "code",
        "colab": {}
      },
      "source": [
        "status={'Married':2,'Single':1,'Not_Sure':0}"
      ],
      "execution_count": 0,
      "outputs": []
    },
    {
      "cell_type": "code",
      "metadata": {
        "id": "erzCZOSGameE",
        "colab_type": "code",
        "colab": {}
      },
      "source": [
        "staff1['Status']=staff1['Marital_Status'].map(status)\n",
        "staff2['Status']=staff2['Marital_Status'].map(status)"
      ],
      "execution_count": 0,
      "outputs": []
    },
    {
      "cell_type": "code",
      "metadata": {
        "id": "g88RWMzMameK",
        "colab_type": "code",
        "colab": {},
        "outputId": "ba8643ba-bca9-4a6d-df5a-61489745ef34"
      },
      "source": [
        "staff1.head()"
      ],
      "execution_count": 0,
      "outputs": [
        {
          "output_type": "execute_result",
          "data": {
            "text/html": [
              "<div>\n",
              "<style scoped>\n",
              "    .dataframe tbody tr th:only-of-type {\n",
              "        vertical-align: middle;\n",
              "    }\n",
              "\n",
              "    .dataframe tbody tr th {\n",
              "        vertical-align: top;\n",
              "    }\n",
              "\n",
              "    .dataframe thead th {\n",
              "        text-align: right;\n",
              "    }\n",
              "</style>\n",
              "<table border=\"1\" class=\"dataframe\">\n",
              "  <thead>\n",
              "    <tr style=\"text-align: right;\">\n",
              "      <th></th>\n",
              "      <th>EmployeeNo</th>\n",
              "      <th>Division</th>\n",
              "      <th>Qualification</th>\n",
              "      <th>Gender</th>\n",
              "      <th>Channel_of_Recruitment</th>\n",
              "      <th>Trainings_Attended</th>\n",
              "      <th>Year_of_birth</th>\n",
              "      <th>Last_performance_score</th>\n",
              "      <th>Year_of_recruitment</th>\n",
              "      <th>Targets_met</th>\n",
              "      <th>...</th>\n",
              "      <th>Foreign_schooled</th>\n",
              "      <th>Marital_Status</th>\n",
              "      <th>Past_Disciplinary_Action</th>\n",
              "      <th>Previous_IntraDepartmental_Movement</th>\n",
              "      <th>No_of_previous_employers</th>\n",
              "      <th>Promoted_or_Not</th>\n",
              "      <th>Sex</th>\n",
              "      <th>Channel</th>\n",
              "      <th>F_schooled</th>\n",
              "      <th>Status</th>\n",
              "    </tr>\n",
              "  </thead>\n",
              "  <tbody>\n",
              "    <tr>\n",
              "      <th>0</th>\n",
              "      <td>YAK/S/00001</td>\n",
              "      <td>Commercial Sales and Marketing</td>\n",
              "      <td>3</td>\n",
              "      <td>Female</td>\n",
              "      <td>Direct Internal process</td>\n",
              "      <td>2</td>\n",
              "      <td>1986</td>\n",
              "      <td>12.5</td>\n",
              "      <td>2011</td>\n",
              "      <td>1</td>\n",
              "      <td>...</td>\n",
              "      <td>No</td>\n",
              "      <td>Married</td>\n",
              "      <td>No</td>\n",
              "      <td>No</td>\n",
              "      <td>0</td>\n",
              "      <td>0</td>\n",
              "      <td>1</td>\n",
              "      <td>1</td>\n",
              "      <td>0</td>\n",
              "      <td>2</td>\n",
              "    </tr>\n",
              "    <tr>\n",
              "      <th>1</th>\n",
              "      <td>YAK/S/00002</td>\n",
              "      <td>Customer Support and Field Operations</td>\n",
              "      <td>2</td>\n",
              "      <td>Male</td>\n",
              "      <td>Agency and others</td>\n",
              "      <td>2</td>\n",
              "      <td>1991</td>\n",
              "      <td>12.5</td>\n",
              "      <td>2015</td>\n",
              "      <td>0</td>\n",
              "      <td>...</td>\n",
              "      <td>Yes</td>\n",
              "      <td>Married</td>\n",
              "      <td>No</td>\n",
              "      <td>No</td>\n",
              "      <td>0</td>\n",
              "      <td>0</td>\n",
              "      <td>2</td>\n",
              "      <td>2</td>\n",
              "      <td>1</td>\n",
              "      <td>2</td>\n",
              "    </tr>\n",
              "    <tr>\n",
              "      <th>2</th>\n",
              "      <td>YAK/S/00003</td>\n",
              "      <td>Commercial Sales and Marketing</td>\n",
              "      <td>2</td>\n",
              "      <td>Male</td>\n",
              "      <td>Direct Internal process</td>\n",
              "      <td>2</td>\n",
              "      <td>1987</td>\n",
              "      <td>7.5</td>\n",
              "      <td>2012</td>\n",
              "      <td>0</td>\n",
              "      <td>...</td>\n",
              "      <td>Yes</td>\n",
              "      <td>Married</td>\n",
              "      <td>No</td>\n",
              "      <td>No</td>\n",
              "      <td>0</td>\n",
              "      <td>0</td>\n",
              "      <td>2</td>\n",
              "      <td>1</td>\n",
              "      <td>1</td>\n",
              "      <td>2</td>\n",
              "    </tr>\n",
              "    <tr>\n",
              "      <th>3</th>\n",
              "      <td>YAK/S/00004</td>\n",
              "      <td>Commercial Sales and Marketing</td>\n",
              "      <td>2</td>\n",
              "      <td>Male</td>\n",
              "      <td>Agency and others</td>\n",
              "      <td>3</td>\n",
              "      <td>1982</td>\n",
              "      <td>2.5</td>\n",
              "      <td>2009</td>\n",
              "      <td>0</td>\n",
              "      <td>...</td>\n",
              "      <td>Yes</td>\n",
              "      <td>Single</td>\n",
              "      <td>No</td>\n",
              "      <td>No</td>\n",
              "      <td>1</td>\n",
              "      <td>0</td>\n",
              "      <td>2</td>\n",
              "      <td>2</td>\n",
              "      <td>1</td>\n",
              "      <td>1</td>\n",
              "    </tr>\n",
              "    <tr>\n",
              "      <th>4</th>\n",
              "      <td>YAK/S/00006</td>\n",
              "      <td>Information and Strategy</td>\n",
              "      <td>2</td>\n",
              "      <td>Male</td>\n",
              "      <td>Direct Internal process</td>\n",
              "      <td>3</td>\n",
              "      <td>1990</td>\n",
              "      <td>7.5</td>\n",
              "      <td>2012</td>\n",
              "      <td>0</td>\n",
              "      <td>...</td>\n",
              "      <td>Yes</td>\n",
              "      <td>Married</td>\n",
              "      <td>No</td>\n",
              "      <td>No</td>\n",
              "      <td>1</td>\n",
              "      <td>0</td>\n",
              "      <td>2</td>\n",
              "      <td>1</td>\n",
              "      <td>1</td>\n",
              "      <td>2</td>\n",
              "    </tr>\n",
              "  </tbody>\n",
              "</table>\n",
              "<p>5 rows × 23 columns</p>\n",
              "</div>"
            ],
            "text/plain": [
              "    EmployeeNo                               Division  Qualification  Gender  \\\n",
              "0  YAK/S/00001         Commercial Sales and Marketing              3  Female   \n",
              "1  YAK/S/00002  Customer Support and Field Operations              2    Male   \n",
              "2  YAK/S/00003         Commercial Sales and Marketing              2    Male   \n",
              "3  YAK/S/00004         Commercial Sales and Marketing              2    Male   \n",
              "4  YAK/S/00006               Information and Strategy              2    Male   \n",
              "\n",
              "    Channel_of_Recruitment  Trainings_Attended  Year_of_birth  \\\n",
              "0  Direct Internal process                   2           1986   \n",
              "1        Agency and others                   2           1991   \n",
              "2  Direct Internal process                   2           1987   \n",
              "3        Agency and others                   3           1982   \n",
              "4  Direct Internal process                   3           1990   \n",
              "\n",
              "   Last_performance_score  Year_of_recruitment  Targets_met  ...  \\\n",
              "0                    12.5                 2011            1  ...   \n",
              "1                    12.5                 2015            0  ...   \n",
              "2                     7.5                 2012            0  ...   \n",
              "3                     2.5                 2009            0  ...   \n",
              "4                     7.5                 2012            0  ...   \n",
              "\n",
              "   Foreign_schooled  Marital_Status Past_Disciplinary_Action  \\\n",
              "0                No         Married                       No   \n",
              "1               Yes         Married                       No   \n",
              "2               Yes         Married                       No   \n",
              "3               Yes          Single                       No   \n",
              "4               Yes         Married                       No   \n",
              "\n",
              "  Previous_IntraDepartmental_Movement No_of_previous_employers  \\\n",
              "0                                  No                        0   \n",
              "1                                  No                        0   \n",
              "2                                  No                        0   \n",
              "3                                  No                        1   \n",
              "4                                  No                        1   \n",
              "\n",
              "  Promoted_or_Not Sex Channel  F_schooled  Status  \n",
              "0               0   1       1           0       2  \n",
              "1               0   2       2           1       2  \n",
              "2               0   2       1           1       2  \n",
              "3               0   2       2           1       1  \n",
              "4               0   2       1           1       2  \n",
              "\n",
              "[5 rows x 23 columns]"
            ]
          },
          "metadata": {
            "tags": []
          },
          "execution_count": 27
        }
      ]
    },
    {
      "cell_type": "code",
      "metadata": {
        "id": "NPMslHloameT",
        "colab_type": "code",
        "colab": {}
      },
      "source": [
        ""
      ],
      "execution_count": 0,
      "outputs": []
    },
    {
      "cell_type": "markdown",
      "metadata": {
        "id": "ft5TkB1DameZ",
        "colab_type": "text"
      },
      "source": [
        "# Past_Disciplinary_Action"
      ]
    },
    {
      "cell_type": "code",
      "metadata": {
        "id": "cospr8Ohameb",
        "colab_type": "code",
        "colab": {}
      },
      "source": [
        "disipline={'Yes': 1,'No':0}"
      ],
      "execution_count": 0,
      "outputs": []
    },
    {
      "cell_type": "code",
      "metadata": {
        "id": "JoLOuQNvameo",
        "colab_type": "code",
        "colab": {}
      },
      "source": [
        "staff1['Past_d_action']=staff1['Past_Disciplinary_Action'].map(disipline)\n",
        "staff2['Past_d_action']=staff2['Past_Disciplinary_Action'].map(disipline)"
      ],
      "execution_count": 0,
      "outputs": []
    },
    {
      "cell_type": "code",
      "metadata": {
        "id": "x8fE532-amex",
        "colab_type": "code",
        "colab": {},
        "outputId": "43faf2b6-9c46-4d01-a493-5111d81d1715"
      },
      "source": [
        "staff1.head()"
      ],
      "execution_count": 0,
      "outputs": [
        {
          "output_type": "execute_result",
          "data": {
            "text/html": [
              "<div>\n",
              "<style scoped>\n",
              "    .dataframe tbody tr th:only-of-type {\n",
              "        vertical-align: middle;\n",
              "    }\n",
              "\n",
              "    .dataframe tbody tr th {\n",
              "        vertical-align: top;\n",
              "    }\n",
              "\n",
              "    .dataframe thead th {\n",
              "        text-align: right;\n",
              "    }\n",
              "</style>\n",
              "<table border=\"1\" class=\"dataframe\">\n",
              "  <thead>\n",
              "    <tr style=\"text-align: right;\">\n",
              "      <th></th>\n",
              "      <th>EmployeeNo</th>\n",
              "      <th>Division</th>\n",
              "      <th>Qualification</th>\n",
              "      <th>Gender</th>\n",
              "      <th>Channel_of_Recruitment</th>\n",
              "      <th>Trainings_Attended</th>\n",
              "      <th>Year_of_birth</th>\n",
              "      <th>Last_performance_score</th>\n",
              "      <th>Year_of_recruitment</th>\n",
              "      <th>Targets_met</th>\n",
              "      <th>...</th>\n",
              "      <th>Marital_Status</th>\n",
              "      <th>Past_Disciplinary_Action</th>\n",
              "      <th>Previous_IntraDepartmental_Movement</th>\n",
              "      <th>No_of_previous_employers</th>\n",
              "      <th>Promoted_or_Not</th>\n",
              "      <th>Sex</th>\n",
              "      <th>Channel</th>\n",
              "      <th>F_schooled</th>\n",
              "      <th>Status</th>\n",
              "      <th>Past_d_action</th>\n",
              "    </tr>\n",
              "  </thead>\n",
              "  <tbody>\n",
              "    <tr>\n",
              "      <th>0</th>\n",
              "      <td>YAK/S/00001</td>\n",
              "      <td>Commercial Sales and Marketing</td>\n",
              "      <td>3</td>\n",
              "      <td>Female</td>\n",
              "      <td>Direct Internal process</td>\n",
              "      <td>2</td>\n",
              "      <td>1986</td>\n",
              "      <td>12.5</td>\n",
              "      <td>2011</td>\n",
              "      <td>1</td>\n",
              "      <td>...</td>\n",
              "      <td>Married</td>\n",
              "      <td>No</td>\n",
              "      <td>No</td>\n",
              "      <td>0</td>\n",
              "      <td>0</td>\n",
              "      <td>1</td>\n",
              "      <td>1</td>\n",
              "      <td>0</td>\n",
              "      <td>2</td>\n",
              "      <td>0</td>\n",
              "    </tr>\n",
              "    <tr>\n",
              "      <th>1</th>\n",
              "      <td>YAK/S/00002</td>\n",
              "      <td>Customer Support and Field Operations</td>\n",
              "      <td>2</td>\n",
              "      <td>Male</td>\n",
              "      <td>Agency and others</td>\n",
              "      <td>2</td>\n",
              "      <td>1991</td>\n",
              "      <td>12.5</td>\n",
              "      <td>2015</td>\n",
              "      <td>0</td>\n",
              "      <td>...</td>\n",
              "      <td>Married</td>\n",
              "      <td>No</td>\n",
              "      <td>No</td>\n",
              "      <td>0</td>\n",
              "      <td>0</td>\n",
              "      <td>2</td>\n",
              "      <td>2</td>\n",
              "      <td>1</td>\n",
              "      <td>2</td>\n",
              "      <td>0</td>\n",
              "    </tr>\n",
              "    <tr>\n",
              "      <th>2</th>\n",
              "      <td>YAK/S/00003</td>\n",
              "      <td>Commercial Sales and Marketing</td>\n",
              "      <td>2</td>\n",
              "      <td>Male</td>\n",
              "      <td>Direct Internal process</td>\n",
              "      <td>2</td>\n",
              "      <td>1987</td>\n",
              "      <td>7.5</td>\n",
              "      <td>2012</td>\n",
              "      <td>0</td>\n",
              "      <td>...</td>\n",
              "      <td>Married</td>\n",
              "      <td>No</td>\n",
              "      <td>No</td>\n",
              "      <td>0</td>\n",
              "      <td>0</td>\n",
              "      <td>2</td>\n",
              "      <td>1</td>\n",
              "      <td>1</td>\n",
              "      <td>2</td>\n",
              "      <td>0</td>\n",
              "    </tr>\n",
              "    <tr>\n",
              "      <th>3</th>\n",
              "      <td>YAK/S/00004</td>\n",
              "      <td>Commercial Sales and Marketing</td>\n",
              "      <td>2</td>\n",
              "      <td>Male</td>\n",
              "      <td>Agency and others</td>\n",
              "      <td>3</td>\n",
              "      <td>1982</td>\n",
              "      <td>2.5</td>\n",
              "      <td>2009</td>\n",
              "      <td>0</td>\n",
              "      <td>...</td>\n",
              "      <td>Single</td>\n",
              "      <td>No</td>\n",
              "      <td>No</td>\n",
              "      <td>1</td>\n",
              "      <td>0</td>\n",
              "      <td>2</td>\n",
              "      <td>2</td>\n",
              "      <td>1</td>\n",
              "      <td>1</td>\n",
              "      <td>0</td>\n",
              "    </tr>\n",
              "    <tr>\n",
              "      <th>4</th>\n",
              "      <td>YAK/S/00006</td>\n",
              "      <td>Information and Strategy</td>\n",
              "      <td>2</td>\n",
              "      <td>Male</td>\n",
              "      <td>Direct Internal process</td>\n",
              "      <td>3</td>\n",
              "      <td>1990</td>\n",
              "      <td>7.5</td>\n",
              "      <td>2012</td>\n",
              "      <td>0</td>\n",
              "      <td>...</td>\n",
              "      <td>Married</td>\n",
              "      <td>No</td>\n",
              "      <td>No</td>\n",
              "      <td>1</td>\n",
              "      <td>0</td>\n",
              "      <td>2</td>\n",
              "      <td>1</td>\n",
              "      <td>1</td>\n",
              "      <td>2</td>\n",
              "      <td>0</td>\n",
              "    </tr>\n",
              "  </tbody>\n",
              "</table>\n",
              "<p>5 rows × 24 columns</p>\n",
              "</div>"
            ],
            "text/plain": [
              "    EmployeeNo                               Division  Qualification  Gender  \\\n",
              "0  YAK/S/00001         Commercial Sales and Marketing              3  Female   \n",
              "1  YAK/S/00002  Customer Support and Field Operations              2    Male   \n",
              "2  YAK/S/00003         Commercial Sales and Marketing              2    Male   \n",
              "3  YAK/S/00004         Commercial Sales and Marketing              2    Male   \n",
              "4  YAK/S/00006               Information and Strategy              2    Male   \n",
              "\n",
              "    Channel_of_Recruitment  Trainings_Attended  Year_of_birth  \\\n",
              "0  Direct Internal process                   2           1986   \n",
              "1        Agency and others                   2           1991   \n",
              "2  Direct Internal process                   2           1987   \n",
              "3        Agency and others                   3           1982   \n",
              "4  Direct Internal process                   3           1990   \n",
              "\n",
              "   Last_performance_score  Year_of_recruitment  Targets_met  ...  \\\n",
              "0                    12.5                 2011            1  ...   \n",
              "1                    12.5                 2015            0  ...   \n",
              "2                     7.5                 2012            0  ...   \n",
              "3                     2.5                 2009            0  ...   \n",
              "4                     7.5                 2012            0  ...   \n",
              "\n",
              "   Marital_Status  Past_Disciplinary_Action  \\\n",
              "0         Married                        No   \n",
              "1         Married                        No   \n",
              "2         Married                        No   \n",
              "3          Single                        No   \n",
              "4         Married                        No   \n",
              "\n",
              "  Previous_IntraDepartmental_Movement No_of_previous_employers  \\\n",
              "0                                  No                        0   \n",
              "1                                  No                        0   \n",
              "2                                  No                        0   \n",
              "3                                  No                        1   \n",
              "4                                  No                        1   \n",
              "\n",
              "  Promoted_or_Not Sex Channel F_schooled  Status  Past_d_action  \n",
              "0               0   1       1          0       2              0  \n",
              "1               0   2       2          1       2              0  \n",
              "2               0   2       1          1       2              0  \n",
              "3               0   2       2          1       1              0  \n",
              "4               0   2       1          1       2              0  \n",
              "\n",
              "[5 rows x 24 columns]"
            ]
          },
          "metadata": {
            "tags": []
          },
          "execution_count": 30
        }
      ]
    },
    {
      "cell_type": "markdown",
      "metadata": {
        "id": "6SfULKlzame3",
        "colab_type": "text"
      },
      "source": [
        "# Drop irrelevant features"
      ]
    },
    {
      "cell_type": "code",
      "metadata": {
        "id": "FScweYDuame8",
        "colab_type": "code",
        "colab": {}
      },
      "source": [
        "staff1.drop(['EmployeeNo','Division','Gender','Channel_of_Recruitment','Year_of_birth',\n",
        "             'Year_of_recruitment','Marital_Status','Past_Disciplinary_Action','Previous_IntraDepartmental_Movement'],axis=1,inplace=True)\n",
        "\n",
        "staff2.drop(['EmployeeNo','Division','Gender','Channel_of_Recruitment','Year_of_birth',\n",
        "             'Year_of_recruitment','Marital_Status','Past_Disciplinary_Action','Previous_IntraDepartmental_Movement'],axis=1,inplace=True)"
      ],
      "execution_count": 0,
      "outputs": []
    },
    {
      "cell_type": "code",
      "metadata": {
        "id": "vQ73ybAlamfF",
        "colab_type": "code",
        "colab": {}
      },
      "source": [
        "staff1.drop(['State_Of_Origin','Foreign_schooled'],axis=1,inplace=True)\n",
        "staff2.drop(['State_Of_Origin','Foreign_schooled'],axis=1,inplace=True)"
      ],
      "execution_count": 0,
      "outputs": []
    },
    {
      "cell_type": "markdown",
      "metadata": {
        "id": "-LBhxDRaamfN",
        "colab_type": "text"
      },
      "source": [
        "# Exploratory Data Analysis"
      ]
    },
    {
      "cell_type": "code",
      "metadata": {
        "id": "sWVybENgamfO",
        "colab_type": "code",
        "colab": {},
        "outputId": "d0dc46d1-8526-4e54-95a2-22e715daacda"
      },
      "source": [
        "plt.figure(figsize=(30,6))\n",
        "sns.barplot(x='Year_of_birth',y='Last_performance_score',data=train_data,hue='Qualification')"
      ],
      "execution_count": 0,
      "outputs": [
        {
          "output_type": "execute_result",
          "data": {
            "text/plain": [
              "<matplotlib.axes._subplots.AxesSubplot at 0x29caa836b00>"
            ]
          },
          "metadata": {
            "tags": []
          },
          "execution_count": 7
        },
        {
          "output_type": "display_data",
          "data": {
            "image/png": "[encoded data removed]",
            "text/plain": [
              "<Figure size 2160x432 with 1 Axes>"
            ]
          },
          "metadata": {
            "tags": [],
            "needs_background": "light"
          }
        }
      ]
    },
    {
      "cell_type": "code",
      "metadata": {
        "id": "925O-TEeamfU",
        "colab_type": "code",
        "colab": {}
      },
      "source": [
        ""
      ],
      "execution_count": 0,
      "outputs": []
    },
    {
      "cell_type": "code",
      "metadata": {
        "id": "9cr59X9QamfY",
        "colab_type": "code",
        "colab": {},
        "outputId": "7b369853-8223-46d6-d0ae-d2c48a5017d2"
      },
      "source": [
        "plt.figure(figsize=(30,6))\n",
        "sns.barplot(x='Year_of_birth',y=np.arange(0,38312),data=train_data,hue='Qualification')"
      ],
      "execution_count": 0,
      "outputs": [
        {
          "output_type": "execute_result",
          "data": {
            "text/plain": [
              "<matplotlib.axes._subplots.AxesSubplot at 0x29cac6aefd0>"
            ]
          },
          "metadata": {
            "tags": []
          },
          "execution_count": 8
        },
        {
          "output_type": "display_data",
          "data": {
            "image/png": "[encoded data removed]",
            "text/plain": [
              "<Figure size 2160x432 with 1 Axes>"
            ]
          },
          "metadata": {
            "tags": [],
            "needs_background": "light"
          }
        }
      ]
    },
    {
      "cell_type": "code",
      "metadata": {
        "id": "KuzBjTyyamff",
        "colab_type": "code",
        "colab": {}
      },
      "source": [
        ""
      ],
      "execution_count": 0,
      "outputs": []
    },
    {
      "cell_type": "code",
      "metadata": {
        "id": "gdyJwuu8amfl",
        "colab_type": "code",
        "colab": {},
        "outputId": "4b2d4ed4-a60b-40c7-c27f-f5e156746346"
      },
      "source": [
        "plt.figure(figsize=(30,6))\n",
        "sns.barplot(x='Year_of_recruitment',y='Last_performance_score',data=train_data,hue='Channel_of_Recruitment')"
      ],
      "execution_count": 0,
      "outputs": [
        {
          "output_type": "execute_result",
          "data": {
            "text/plain": [
              "<matplotlib.axes._subplots.AxesSubplot at 0x29caceab7b8>"
            ]
          },
          "metadata": {
            "tags": []
          },
          "execution_count": 10
        },
        {
          "output_type": "display_data",
          "data": {
            "image/png": "[encoded data removed]",
            "text/plain": [
              "<Figure size 2160x432 with 1 Axes>"
            ]
          },
          "metadata": {
            "tags": [],
            "needs_background": "light"
          }
        }
      ]
    },
    {
      "cell_type": "code",
      "metadata": {
        "id": "qX00ylRDamfu",
        "colab_type": "code",
        "colab": {}
      },
      "source": [
        ""
      ],
      "execution_count": 0,
      "outputs": []
    },
    {
      "cell_type": "code",
      "metadata": {
        "id": "6Yd8hOyOamfz",
        "colab_type": "code",
        "colab": {},
        "outputId": "a6f97817-4bcb-4752-f186-9e01c8484a3b"
      },
      "source": [
        "plt.figure(figsize=(30,6))\n",
        "sns.barplot(x='Year_of_recruitment',y='Last_performance_score',data=train_data,hue='Qualification')"
      ],
      "execution_count": 0,
      "outputs": [
        {
          "output_type": "execute_result",
          "data": {
            "text/plain": [
              "<matplotlib.axes._subplots.AxesSubplot at 0x29cacf92f98>"
            ]
          },
          "metadata": {
            "tags": []
          },
          "execution_count": 11
        },
        {
          "output_type": "display_data",
          "data": {
            "image/png": "[encoded data removed]",
            "text/plain": [
              "<Figure size 2160x432 with 1 Axes>"
            ]
          },
          "metadata": {
            "tags": [],
            "needs_background": "light"
          }
        }
      ]
    },
    {
      "cell_type": "code",
      "metadata": {
        "id": "LyNR4mqNamf8",
        "colab_type": "code",
        "colab": {}
      },
      "source": [
        ""
      ],
      "execution_count": 0,
      "outputs": []
    },
    {
      "cell_type": "markdown",
      "metadata": {
        "id": "6GMkflWIamgE",
        "colab_type": "text"
      },
      "source": [
        "# Model Creation and Validation"
      ]
    },
    {
      "cell_type": "code",
      "metadata": {
        "id": "fArX-HqgamgL",
        "colab_type": "code",
        "colab": {}
      },
      "source": [
        "X=train_data[['Gender_1','Trainings_Attended','Last_performance_score',\n",
        "       'Targets_met','Training_score_average','Foreign_schooled_1',\n",
        "       'Marital_Status_1','Previous_IntraDepartmental_Movement_1',\n",
        "       ]]"
      ],
      "execution_count": 0,
      "outputs": []
    },
    {
      "cell_type": "code",
      "metadata": {
        "id": "ylWdp8D_amgY",
        "colab_type": "code",
        "colab": {}
      },
      "source": [
        "y=train_data['Promoted_or_Not']"
      ],
      "execution_count": 0,
      "outputs": []
    },
    {
      "cell_type": "code",
      "metadata": {
        "id": "i68xglR1amgj",
        "colab_type": "code",
        "colab": {}
      },
      "source": [
        "from sklearn.model_selection import KFold\n",
        "from sklearn.model_selection import cross_val_score\n",
        "k_fold=KFold(n_splits=10,shuffle=True,random_state=0)"
      ],
      "execution_count": 0,
      "outputs": []
    },
    {
      "cell_type": "code",
      "metadata": {
        "id": "D-DBWbyZamgo",
        "colab_type": "code",
        "colab": {},
        "outputId": "476ede40-314b-4317-917c-6d3d7719d37e"
      },
      "source": [
        "model1=KNeighborsClassifier(n_neighbors=195)\n",
        "scoring='accuracy'\n",
        "score=cross_val_score(model1,X,y,cv=k_fold,n_jobs=1,scoring=scoring)\n",
        "print(score)"
      ],
      "execution_count": 0,
      "outputs": [
        {
          "output_type": "stream",
          "text": [
            "[0.92745303 0.91962422 0.91777604 0.91803707 0.92926129 0.93108849\n",
            " 0.92430175 0.92090838 0.92169146 0.92116941]\n"
          ],
          "name": "stdout"
        }
      ]
    },
    {
      "cell_type": "code",
      "metadata": {
        "id": "kl8Y-r6Jamgy",
        "colab_type": "code",
        "colab": {},
        "outputId": "fc517044-d9b6-4668-bcc1-2b899c905ac9"
      },
      "source": [
        "round(np.mean(score)*100,2)"
      ],
      "execution_count": 0,
      "outputs": [
        {
          "output_type": "execute_result",
          "data": {
            "text/plain": [
              "92.31"
            ]
          },
          "metadata": {
            "tags": []
          },
          "execution_count": 34
        }
      ]
    },
    {
      "cell_type": "code",
      "metadata": {
        "id": "vntx0PqWamg3",
        "colab_type": "code",
        "colab": {},
        "outputId": "c5daf656-83f9-4461-9cb5-8dd382c76cb1"
      },
      "source": [
        "model2=DecisionTreeClassifier()\n",
        "scoring='accuracy'\n",
        "score2=cross_val_score(model2,X,y,cv=k_fold,n_jobs=1,scoring=scoring)\n",
        "print(score2)"
      ],
      "execution_count": 0,
      "outputs": [
        {
          "output_type": "stream",
          "text": [
            "[0.91283925 0.91153445 0.91020621 0.90968416 0.91490472 0.91986427\n",
            " 0.91307753 0.91125033 0.91333855 0.91203341]\n"
          ],
          "name": "stdout"
        }
      ]
    },
    {
      "cell_type": "code",
      "metadata": {
        "id": "wC5qzK1qamg-",
        "colab_type": "code",
        "colab": {},
        "outputId": "0894d38b-46bb-4480-da86-b1a486190f66"
      },
      "source": [
        "round(np.mean(score2)*100,2)"
      ],
      "execution_count": 0,
      "outputs": [
        {
          "output_type": "execute_result",
          "data": {
            "text/plain": [
              "91.29"
            ]
          },
          "metadata": {
            "tags": []
          },
          "execution_count": 36
        }
      ]
    },
    {
      "cell_type": "code",
      "metadata": {
        "id": "W2wDuC-ramhF",
        "colab_type": "code",
        "colab": {},
        "outputId": "096b428c-ae35-48b9-dc33-c3b1cd52a8e3"
      },
      "source": [
        "model3=RandomForestClassifier(n_estimators=20)\n",
        "scoring='accuracy'\n",
        "score3=cross_val_score(model3,X,y,cv=k_fold,n_jobs=1,scoring=scoring)\n",
        "print(score3)"
      ],
      "execution_count": 0,
      "outputs": [
        {
          "output_type": "stream",
          "text": [
            "[0.91570981 0.91257829 0.90707387 0.90681284 0.91751501 0.91908118\n",
            " 0.9109893  0.91046724 0.91333855 0.91072827]\n"
          ],
          "name": "stdout"
        }
      ]
    },
    {
      "cell_type": "code",
      "metadata": {
        "id": "UQaOiQqyamhK",
        "colab_type": "code",
        "colab": {},
        "outputId": "4a03f0f9-48a7-4cf6-cdad-09e4a0ba3cf5"
      },
      "source": [
        "round(np.mean(score3)*100,2)"
      ],
      "execution_count": 0,
      "outputs": [
        {
          "output_type": "execute_result",
          "data": {
            "text/plain": [
              "91.24"
            ]
          },
          "metadata": {
            "tags": []
          },
          "execution_count": 38
        }
      ]
    },
    {
      "cell_type": "code",
      "metadata": {
        "id": "pMpT5SeuamhR",
        "colab_type": "code",
        "colab": {},
        "outputId": "6ed6be48-e81c-40dc-c04b-275e03fa568b"
      },
      "source": [
        "model4=GaussianNB()\n",
        "scoring='accuracy'\n",
        "score4=cross_val_score(model4,X,y,cv=k_fold,n_jobs=1,scoring=scoring)\n",
        "print(score4)"
      ],
      "execution_count": 0,
      "outputs": [
        {
          "output_type": "stream",
          "text": [
            "[0.91675365 0.90996868 0.91255547 0.90785696 0.92090838 0.92012529\n",
            " 0.91594884 0.91490472 0.91516575 0.91020621]\n"
          ],
          "name": "stdout"
        }
      ]
    },
    {
      "cell_type": "code",
      "metadata": {
        "id": "jahVhoH4amhV",
        "colab_type": "code",
        "colab": {},
        "outputId": "8216b9cd-3baa-4116-c826-23e0e3dcc1fb"
      },
      "source": [
        "round(np.mean(score4)*100,2)"
      ],
      "execution_count": 0,
      "outputs": [
        {
          "output_type": "execute_result",
          "data": {
            "text/plain": [
              "91.44"
            ]
          },
          "metadata": {
            "tags": []
          },
          "execution_count": 40
        }
      ]
    },
    {
      "cell_type": "code",
      "metadata": {
        "id": "m6D_P6d0amhb",
        "colab_type": "code",
        "colab": {}
      },
      "source": [
        ""
      ],
      "execution_count": 0,
      "outputs": []
    },
    {
      "cell_type": "code",
      "metadata": {
        "id": "HBZoetkqamhf",
        "colab_type": "code",
        "colab": {},
        "outputId": "b979671d-cc6a-4b53-ac55-6d22225c629f"
      },
      "source": [
        "model5=XGBClassifier()\n",
        "scoring='accuracy'\n",
        "score5=cross_val_score(model6,X,y,cv=k_fold,n_jobs=1,scoring=scoring)\n",
        "print(score5)"
      ],
      "execution_count": 0,
      "outputs": [
        {
          "output_type": "stream",
          "text": [
            "[0.92771399 0.92197286 0.91934221 0.91882015 0.93004437 0.93161055\n",
            " 0.92560689 0.92195249 0.92325764 0.92143044]\n"
          ],
          "name": "stdout"
        }
      ]
    },
    {
      "cell_type": "code",
      "metadata": {
        "id": "Mp4N7Q_lamhj",
        "colab_type": "code",
        "colab": {},
        "outputId": "c8750ab1-985f-4a10-ce82-0039496b4471"
      },
      "source": [
        "round(np.mean(score5)*100,2)"
      ],
      "execution_count": 0,
      "outputs": [
        {
          "output_type": "execute_result",
          "data": {
            "text/plain": [
              "92.42"
            ]
          },
          "metadata": {
            "tags": []
          },
          "execution_count": 43
        }
      ]
    },
    {
      "cell_type": "code",
      "metadata": {
        "id": "h_fUiJ0lamhp",
        "colab_type": "code",
        "colab": {}
      },
      "source": [
        "model=LogisticRegression()"
      ],
      "execution_count": 0,
      "outputs": []
    },
    {
      "cell_type": "code",
      "metadata": {
        "id": "47Cl_jBHamhy",
        "colab_type": "code",
        "colab": {},
        "outputId": "0008dcc6-41a7-4264-e9f2-5818694bfee9"
      },
      "source": [
        "model.fit(X,y)"
      ],
      "execution_count": 0,
      "outputs": [
        {
          "output_type": "stream",
          "text": [
            "C:\\ProgramData\\Anaconda3\\lib\\site-packages\\sklearn\\linear_model\\logistic.py:433: FutureWarning: Default solver will be changed to 'lbfgs' in 0.22. Specify a solver to silence this warning.\n",
            "  FutureWarning)\n"
          ],
          "name": "stderr"
        },
        {
          "output_type": "execute_result",
          "data": {
            "text/plain": [
              "LogisticRegression(C=1.0, class_weight=None, dual=False, fit_intercept=True,\n",
              "          intercept_scaling=1, max_iter=100, multi_class='warn',\n",
              "          n_jobs=None, penalty='l2', random_state=None, solver='warn',\n",
              "          tol=0.0001, verbose=0, warm_start=False)"
            ]
          },
          "metadata": {
            "tags": []
          },
          "execution_count": 45
        }
      ]
    },
    {
      "cell_type": "code",
      "metadata": {
        "id": "G52JAWh3amh2",
        "colab_type": "code",
        "colab": {}
      },
      "source": [
        "predict=model.predict(test_data).astype(int)"
      ],
      "execution_count": 0,
      "outputs": []
    },
    {
      "cell_type": "code",
      "metadata": {
        "id": "vwT19q4Famh9",
        "colab_type": "code",
        "colab": {},
        "outputId": "017024f6-8e6e-48f1-f009-89fe79ea058a"
      },
      "source": [
        "model.score(X,y)"
      ],
      "execution_count": 0,
      "outputs": [
        {
          "output_type": "execute_result",
          "data": {
            "text/plain": [
              "0.915587805387346"
            ]
          },
          "metadata": {
            "tags": []
          },
          "execution_count": 47
        }
      ]
    },
    {
      "cell_type": "code",
      "metadata": {
        "id": "mqmRkqG4amiB",
        "colab_type": "code",
        "colab": {}
      },
      "source": [
        ""
      ],
      "execution_count": 0,
      "outputs": []
    },
    {
      "cell_type": "code",
      "metadata": {
        "id": "_nGDusOvamiH",
        "colab_type": "code",
        "colab": {}
      },
      "source": [
        ""
      ],
      "execution_count": 0,
      "outputs": []
    },
    {
      "cell_type": "markdown",
      "metadata": {
        "id": "vkxecerTamiL",
        "colab_type": "text"
      },
      "source": [
        "# Extract back to csv file"
      ]
    },
    {
      "cell_type": "code",
      "metadata": {
        "id": "IrkdqIcoamiM",
        "colab_type": "code",
        "colab": {}
      },
      "source": [
        "staff1.to_csv('staff_train.csv')\n",
        "staff2.to_csv('staff_test.csv')"
      ],
      "execution_count": 0,
      "outputs": []
    },
    {
      "cell_type": "code",
      "metadata": {
        "id": "1dcBtHAgamiQ",
        "colab_type": "code",
        "colab": {}
      },
      "source": [
        ""
      ],
      "execution_count": 0,
      "outputs": []
    },
    {
      "cell_type": "code",
      "metadata": {
        "id": "bY_kJNNgamiX",
        "colab_type": "code",
        "colab": {}
      },
      "source": [
        ""
      ],
      "execution_count": 0,
      "outputs": []
    },
    {
      "cell_type": "code",
      "metadata": {
        "id": "N_0ySs_oamif",
        "colab_type": "code",
        "colab": {}
      },
      "source": [
        ""
      ],
      "execution_count": 0,
      "outputs": []
    }
  ]
}